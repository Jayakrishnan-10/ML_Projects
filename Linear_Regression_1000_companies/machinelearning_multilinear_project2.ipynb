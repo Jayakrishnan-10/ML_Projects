{
 "cells": [
  {
   "cell_type": "markdown",
   "metadata": {},
   "source": [
    "INTODUCTION"
   ]
  },
  {
   "cell_type": "markdown",
   "metadata": {},
   "source": [
    "This dataset contains financial data for 1,000 companies, including their spending on R&D, administration, and marketing, along with their location (state) and profit. It can be used to analyze the impact of different expenditures on company profitability."
   ]
  },
  {
   "cell_type": "markdown",
   "metadata": {},
   "source": [
    "IMPORT LIBARIES AND LOAD DATASET"
   ]
  },
  {
   "cell_type": "code",
   "execution_count": 1,
   "metadata": {},
   "outputs": [
    {
     "name": "stdout",
     "output_type": "stream",
     "text": [
      "   R&D Spend  Administration  Marketing Spend       State     Profit\n",
      "0  165349.20       136897.80        471784.10    New York  192261.83\n",
      "1  162597.70       151377.59        443898.53  California  191792.06\n",
      "2  153441.51       101145.55        407934.54     Florida  191050.39\n",
      "3  144372.41       118671.85        383199.62    New York  182901.99\n",
      "4  142107.34        91391.77        366168.42     Florida  166187.94\n",
      "5  131876.90        99814.71        362861.36    New York  156991.12\n",
      "6  134615.46       147198.87        127716.82  California  156122.51\n",
      "7  130298.13       145530.06        323876.68     Florida  155752.60\n",
      "8  120542.52       148718.95        311613.29    New York  152211.77\n",
      "9  123334.88       108679.17        304981.62  California  149759.96\n"
     ]
    }
   ],
   "source": [
    "#import the labaries\n",
    "import pandas as pd \n",
    "import numpy as np\n",
    "import matplotlib.pyplot as plt\n",
    "from sklearn.preprocessing import LabelEncoder\n",
    "from sklearn.model_selection import train_test_split\n",
    "from sklearn.linear_model import LinearRegression\n",
    "from sklearn import metrics\n",
    "from sklearn.metrics import r2_score\n",
    "\n",
    "\n",
    "#import dataset\n",
    "df=pd.read_csv(r\"C:\\Data Science\\data_set\\1000_Companies.csv\")\n",
    "print(df.head(10))"
   ]
  },
  {
   "cell_type": "markdown",
   "metadata": {},
   "source": [
    "DATA CLEANING"
   ]
  },
  {
   "cell_type": "code",
   "execution_count": 2,
   "metadata": {},
   "outputs": [
    {
     "name": "stdout",
     "output_type": "stream",
     "text": [
      "<class 'pandas.core.frame.DataFrame'>\n",
      "RangeIndex: 1000 entries, 0 to 999\n",
      "Data columns (total 5 columns):\n",
      " #   Column           Non-Null Count  Dtype  \n",
      "---  ------           --------------  -----  \n",
      " 0   R&D Spend        1000 non-null   float64\n",
      " 1   Administration   1000 non-null   float64\n",
      " 2   Marketing Spend  1000 non-null   float64\n",
      " 3   State            1000 non-null   object \n",
      " 4   Profit           1000 non-null   float64\n",
      "dtypes: float64(4), object(1)\n",
      "memory usage: 39.2+ KB\n"
     ]
    }
   ],
   "source": [
    "df.info()"
   ]
  },
  {
   "cell_type": "code",
   "execution_count": 3,
   "metadata": {},
   "outputs": [
    {
     "data": {
      "text/plain": [
       "R&D Spend          0\n",
       "Administration     0\n",
       "Marketing Spend    0\n",
       "State              0\n",
       "Profit             0\n",
       "dtype: int64"
      ]
     },
     "execution_count": 3,
     "metadata": {},
     "output_type": "execute_result"
    }
   ],
   "source": [
    "df.isna().sum()"
   ]
  },
  {
   "cell_type": "code",
   "execution_count": 4,
   "metadata": {},
   "outputs": [
    {
     "data": {
      "text/plain": [
       "1"
      ]
     },
     "execution_count": 4,
     "metadata": {},
     "output_type": "execute_result"
    }
   ],
   "source": [
    "df.duplicated().sum()"
   ]
  },
  {
   "cell_type": "code",
   "execution_count": 5,
   "metadata": {},
   "outputs": [],
   "source": [
    "df.drop_duplicates(inplace=True)"
   ]
  },
  {
   "cell_type": "code",
   "execution_count": 6,
   "metadata": {},
   "outputs": [
    {
     "name": "stdout",
     "output_type": "stream",
     "text": [
      "['New York' 'California' 'Florida']\n"
     ]
    }
   ],
   "source": [
    "#find unique vlaues on state\n",
    "unique_states=df['State'].unique()\n",
    "print(unique_states)"
   ]
  },
  {
   "cell_type": "code",
   "execution_count": 7,
   "metadata": {},
   "outputs": [],
   "source": [
    "le=LabelEncoder()\n",
    "df['State']=le.fit_transform(df['State'])"
   ]
  },
  {
   "cell_type": "markdown",
   "metadata": {},
   "source": [
    "EXTRACTING INDEPENDENT AND DEPENDENNT VARIABLES"
   ]
  },
  {
   "cell_type": "code",
   "execution_count": 8,
   "metadata": {},
   "outputs": [],
   "source": [
    "#split the dataset \n",
    "x=df[['R&D Spend','Administration','Marketing Spend','State']]\n",
    "x=pd.DataFrame(x)\n",
    "y=df['Profit']\n",
    "y=pd.DataFrame(y)"
   ]
  },
  {
   "cell_type": "markdown",
   "metadata": {},
   "source": [
    "DATA VISUALIZATION BY FINDING CORRELATION BETWEEN THE DATA"
   ]
  },
  {
   "cell_type": "code",
   "execution_count": 9,
   "metadata": {},
   "outputs": [
    {
     "name": "stdout",
     "output_type": "stream",
     "text": [
      "                 R&D Spend  Administration  Marketing Spend     State  \\\n",
      "R&D Spend         1.000000        0.338852         0.834919  0.176761   \n",
      "Administration    0.338852        1.000000         0.122405  0.050652   \n",
      "Marketing Spend   0.834919        0.122405         1.000000  0.148626   \n",
      "State             0.176761        0.050652         0.148626  1.000000   \n",
      "Profit            0.986730        0.310740         0.848022  0.174390   \n",
      "\n",
      "                   Profit  \n",
      "R&D Spend        0.986730  \n",
      "Administration   0.310740  \n",
      "Marketing Spend  0.848022  \n",
      "State            0.174390  \n",
      "Profit           1.000000  \n"
     ]
    },
    {
     "data": {
      "image/png": "[encoded data removed]",
      "text/plain": [
       "<Figure size 640x480 with 1 Axes>"
      ]
     },
     "metadata": {},
     "output_type": "display_data"
    }
   ],
   "source": [
    "#finding the corelation and graph plotting \n",
    "cor=df.head(100)[['R&D Spend','Administration','Marketing Spend','State','Profit']].corr()\n",
    "print(cor)\n",
    "plt.scatter(df.head(100)['R&D Spend'],df.head(100)['Profit'])\n",
    "plt.show()"
   ]
  },
  {
   "cell_type": "markdown",
   "metadata": {},
   "source": [
    "SPLITING DATA INTO TRAIN AND TEST DATA"
   ]
  },
  {
   "cell_type": "code",
   "execution_count": 10,
   "metadata": {},
   "outputs": [],
   "source": [
    "\n",
    "x_train,x_test,y_train,y_test=train_test_split(x,y,test_size=.2,random_state=34)"
   ]
  },
  {
   "cell_type": "markdown",
   "metadata": {},
   "source": [
    "MODEL BULIDING AND EVALUATE PREDICTIONS"
   ]
  },
  {
   "cell_type": "markdown",
   "metadata": {},
   "source": [
    "LINEAR REGRESSION"
   ]
  },
  {
   "cell_type": "code",
   "execution_count": 11,
   "metadata": {},
   "outputs": [
    {
     "data": {
      "text/html": [
       "<style>#sk-container-id-1 {color: black;background-color: white;}#sk-container-id-1 pre{padding: 0;}#sk-container-id-1 div.sk-toggleable {background-color: white;}#sk-container-id-1 label.sk-toggleable__label {cursor: pointer;display: block;width: 100%;margin-bottom: 0;padding: 0.3em;box-sizing: border-box;text-align: center;}#sk-container-id-1 label.sk-toggleable__label-arrow:before {content: \"▸\";float: left;margin-right: 0.25em;color: #696969;}#sk-container-id-1 label.sk-toggleable__label-arrow:hover:before {color: black;}#sk-container-id-1 div.sk-estimator:hover label.sk-toggleable__label-arrow:before {color: black;}#sk-container-id-1 div.sk-toggleable__content {max-height: 0;max-width: 0;overflow: hidden;text-align: left;background-color: #f0f8ff;}#sk-container-id-1 div.sk-toggleable__content pre {margin: 0.2em;color: black;border-radius: 0.25em;background-color: #f0f8ff;}#sk-container-id-1 input.sk-toggleable__control:checked~div.sk-toggleable__content {max-height: 200px;max-width: 100%;overflow: auto;}#sk-container-id-1 input.sk-toggleable__control:checked~label.sk-toggleable__label-arrow:before {content: \"▾\";}#sk-container-id-1 div.sk-estimator input.sk-toggleable__control:checked~label.sk-toggleable__label {background-color: #d4ebff;}#sk-container-id-1 div.sk-label input.sk-toggleable__control:checked~label.sk-toggleable__label {background-color: #d4ebff;}#sk-container-id-1 input.sk-hidden--visually {border: 0;clip: rect(1px 1px 1px 1px);clip: rect(1px, 1px, 1px, 1px);height: 1px;margin: -1px;overflow: hidden;padding: 0;position: absolute;width: 1px;}#sk-container-id-1 div.sk-estimator {font-family: monospace;background-color: #f0f8ff;border: 1px dotted black;border-radius: 0.25em;box-sizing: border-box;margin-bottom: 0.5em;}#sk-container-id-1 div.sk-estimator:hover {background-color: #d4ebff;}#sk-container-id-1 div.sk-parallel-item::after {content: \"\";width: 100%;border-bottom: 1px solid gray;flex-grow: 1;}#sk-container-id-1 div.sk-label:hover label.sk-toggleable__label {background-color: #d4ebff;}#sk-container-id-1 div.sk-serial::before {content: \"\";position: absolute;border-left: 1px solid gray;box-sizing: border-box;top: 0;bottom: 0;left: 50%;z-index: 0;}#sk-container-id-1 div.sk-serial {display: flex;flex-direction: column;align-items: center;background-color: white;padding-right: 0.2em;padding-left: 0.2em;position: relative;}#sk-container-id-1 div.sk-item {position: relative;z-index: 1;}#sk-container-id-1 div.sk-parallel {display: flex;align-items: stretch;justify-content: center;background-color: white;position: relative;}#sk-container-id-1 div.sk-item::before, #sk-container-id-1 div.sk-parallel-item::before {content: \"\";position: absolute;border-left: 1px solid gray;box-sizing: border-box;top: 0;bottom: 0;left: 50%;z-index: -1;}#sk-container-id-1 div.sk-parallel-item {display: flex;flex-direction: column;z-index: 1;position: relative;background-color: white;}#sk-container-id-1 div.sk-parallel-item:first-child::after {align-self: flex-end;width: 50%;}#sk-container-id-1 div.sk-parallel-item:last-child::after {align-self: flex-start;width: 50%;}#sk-container-id-1 div.sk-parallel-item:only-child::after {width: 0;}#sk-container-id-1 div.sk-dashed-wrapped {border: 1px dashed gray;margin: 0 0.4em 0.5em 0.4em;box-sizing: border-box;padding-bottom: 0.4em;background-color: white;}#sk-container-id-1 div.sk-label label {font-family: monospace;font-weight: bold;display: inline-block;line-height: 1.2em;}#sk-container-id-1 div.sk-label-container {text-align: center;}#sk-container-id-1 div.sk-container {/* jupyter's `normalize.less` sets `[hidden] { display: none; }` but bootstrap.min.css set `[hidden] { display: none !important; }` so we also need the `!important` here to be able to override the default hidden behavior on the sphinx rendered scikit-learn.org. See: https://github.com/scikit-learn/scikit-learn/issues/21755 */display: inline-block !important;position: relative;}#sk-container-id-1 div.sk-text-repr-fallback {display: none;}</style><div id=\"sk-container-id-1\" class=\"sk-top-container\"><div class=\"sk-text-repr-fallback\"><pre>LinearRegression()</pre><b>In a Jupyter environment, please rerun this cell to show the HTML representation or trust the notebook. <br />On GitHub, the HTML representation is unable to render, please try loading this page with nbviewer.org.</b></div><div class=\"sk-container\" hidden><div class=\"sk-item\"><div class=\"sk-estimator sk-toggleable\"><input class=\"sk-toggleable__control sk-hidden--visually\" id=\"sk-estimator-id-1\" type=\"checkbox\" checked><label for=\"sk-estimator-id-1\" class=\"sk-toggleable__label sk-toggleable__label-arrow\">LinearRegression</label><div class=\"sk-toggleable__content\"><pre>LinearRegression()</pre></div></div></div></div></div>"
      ],
      "text/plain": [
       "LinearRegression()"
      ]
     },
     "execution_count": 11,
     "metadata": {},
     "output_type": "execute_result"
    }
   ],
   "source": [
    "#create linear regression model\n",
    "model=LinearRegression()\n",
    "model.fit(x_train,y_train)"
   ]
  },
  {
   "cell_type": "code",
   "execution_count": 12,
   "metadata": {},
   "outputs": [
    {
     "name": "stdout",
     "output_type": "stream",
     "text": [
      "           Profit\n",
      "430  114839.81770\n",
      "972  161076.62960\n",
      "395  175747.37530\n",
      "310  180684.32520\n",
      "130  129804.43970\n",
      "..            ...\n",
      "776  133019.13810\n",
      "316  159514.13070\n",
      "974  141344.20750\n",
      "666   95226.99644\n",
      "323  134979.73680\n",
      "\n",
      "[200 rows x 1 columns]\n",
      "[[114946.66105946]\n",
      " [161759.8153638 ]\n",
      " [176699.57037546]\n",
      " [181611.92121911]\n",
      " [130097.81717908]\n",
      " [126774.36142448]\n",
      " [177632.68749174]\n",
      " [128526.57675807]\n",
      " [103036.07971335]\n",
      " [ 65419.68031455]\n",
      " [127169.48577527]\n",
      " [ 98679.32805984]\n",
      " [ 94519.8792737 ]\n",
      " [ 64451.45647838]\n",
      " [135164.99225623]\n",
      " [143325.34650399]\n",
      " [ 80401.3082445 ]\n",
      " [128555.2731408 ]\n",
      " [ 75591.02036892]\n",
      " [ 80183.8524469 ]\n",
      " [126218.91649507]\n",
      " [175213.09410533]\n",
      " [ 97692.47959681]\n",
      " [169539.95182271]\n",
      " [172466.90927512]\n",
      " [ 52430.00957491]\n",
      " [ 94230.98920752]\n",
      " [ 68287.11018063]\n",
      " [107028.99906176]\n",
      " [159907.97859728]\n",
      " [ 68165.00029968]\n",
      " [ 76275.18802056]\n",
      " [172804.23584182]\n",
      " [ 75768.68891171]\n",
      " [156804.57341007]\n",
      " [ 51324.61605183]\n",
      " [ 56932.3064524 ]\n",
      " [ 76966.78433405]\n",
      " [105066.95908612]\n",
      " [113991.25800968]\n",
      " [132864.23033248]\n",
      " [ 59995.64084539]\n",
      " [174086.43295158]\n",
      " [ 50553.08948578]\n",
      " [123888.41204528]\n",
      " [-24462.78330402]\n",
      " [139424.46659035]\n",
      " [ 92840.16544581]\n",
      " [ 56086.1114671 ]\n",
      " [152620.34892232]\n",
      " [162262.85476654]\n",
      " [116471.19468052]\n",
      " [ 67822.63734721]\n",
      " [130814.49680163]\n",
      " [176780.00985265]\n",
      " [ 95009.79117578]\n",
      " [179144.98079425]\n",
      " [102917.58289564]\n",
      " [173798.05209337]\n",
      " [ 87508.67450523]\n",
      " [159801.08185963]\n",
      " [171434.67982181]\n",
      " [164602.00867576]\n",
      " [ 70196.89798674]\n",
      " [167743.9803098 ]\n",
      " [143027.80709045]\n",
      " [163760.7777596 ]\n",
      " [165146.56513554]\n",
      " [139193.01845743]\n",
      " [107396.59869084]\n",
      " [125082.5385327 ]\n",
      " [181712.25426246]\n",
      " [182958.27719107]\n",
      " [122859.64241016]\n",
      " [158245.05459235]\n",
      " [ 88433.14227415]\n",
      " [111108.56583248]\n",
      " [136043.05981699]\n",
      " [ 68732.55430338]\n",
      " [ 60304.0686269 ]\n",
      " [135785.15430113]\n",
      " [146608.1501587 ]\n",
      " [ 54453.61365546]\n",
      " [ 98355.88872513]\n",
      " [139626.50674052]\n",
      " [138111.48743438]\n",
      " [ 97454.62100425]\n",
      " [154217.53749746]\n",
      " [180435.60264478]\n",
      " [167519.09585034]\n",
      " [136953.33262399]\n",
      " [176723.78873779]\n",
      " [102138.11847435]\n",
      " [ 53079.73284866]\n",
      " [114470.58814598]\n",
      " [141390.11965006]\n",
      " [ 62753.06989231]\n",
      " [170327.40314874]\n",
      " [176688.17279952]\n",
      " [ 98281.35048919]\n",
      " [182886.33382658]\n",
      " [ 98260.59195547]\n",
      " [178479.46389999]\n",
      " [ 82208.16812538]\n",
      " [175082.84397291]\n",
      " [128265.51822954]\n",
      " [181768.11951607]\n",
      " [134470.08948169]\n",
      " [166147.14758549]\n",
      " [138611.42285935]\n",
      " [127992.55291709]\n",
      " [172589.37491567]\n",
      " [115924.39921055]\n",
      " [104219.3178328 ]\n",
      " [128760.0953554 ]\n",
      " [116311.89229371]\n",
      " [166182.61005455]\n",
      " [125877.7743506 ]\n",
      " [148252.91038928]\n",
      " [120084.40534639]\n",
      " [162068.95486782]\n",
      " [ 63826.9697598 ]\n",
      " [183917.49570655]\n",
      " [ 86657.42018865]\n",
      " [133304.56344087]\n",
      " [ 63217.69608287]\n",
      " [126364.73564246]\n",
      " [163054.12165993]\n",
      " [110500.51297395]\n",
      " [ 96089.23642327]\n",
      " [110361.10427579]\n",
      " [159081.45162686]\n",
      " [183849.87713824]\n",
      " [ 80218.45007088]\n",
      " [ 97347.36852784]\n",
      " [ 69869.08561247]\n",
      " [150754.67305512]\n",
      " [154750.69649337]\n",
      " [ 90519.02205546]\n",
      " [177798.90931161]\n",
      " [ 68492.96590859]\n",
      " [ 66076.16989774]\n",
      " [121681.08482563]\n",
      " [174704.509333  ]\n",
      " [184934.15615531]\n",
      " [181560.88974548]\n",
      " [ 74974.6739018 ]\n",
      " [171227.95914712]\n",
      " [185578.18081336]\n",
      " [107687.21855925]\n",
      " [143217.22907043]\n",
      " [ 54332.52196734]\n",
      " [170537.7368971 ]\n",
      " [161323.88556639]\n",
      " [185560.72864944]\n",
      " [ 88755.40903385]\n",
      " [ 86693.74761487]\n",
      " [ 81930.16653924]\n",
      " [176257.94184091]\n",
      " [132669.83779803]\n",
      " [118073.0637906 ]\n",
      " [162234.1583734 ]\n",
      " [165921.04231804]\n",
      " [100926.84652686]\n",
      " [182890.30264942]\n",
      " [ 81606.32309989]\n",
      " [158856.21142864]\n",
      " [164816.00465517]\n",
      " [152661.86609143]\n",
      " [168103.79542618]\n",
      " [ 59272.70412761]\n",
      " [110991.79893949]\n",
      " [ 77270.73408474]\n",
      " [144905.94799486]\n",
      " [176868.58957089]\n",
      " [131360.62981857]\n",
      " [145143.80646493]\n",
      " [ 77186.32579512]\n",
      " [ 43333.44896778]\n",
      " [ 63310.95634645]\n",
      " [152928.42095465]\n",
      " [ 79464.22231579]\n",
      " [144590.24480696]\n",
      " [ 51603.63584122]\n",
      " [157690.62797723]\n",
      " [169650.66413814]\n",
      " [169953.39318251]\n",
      " [ 52825.79626459]\n",
      " [162110.98113283]\n",
      " [170361.64491148]\n",
      " [ 95229.13013274]\n",
      " [185867.42662872]\n",
      " [183004.47478304]\n",
      " [ 84627.55900768]\n",
      " [102356.08337826]\n",
      " [133438.72508719]\n",
      " [160177.83993197]\n",
      " [141867.566627  ]\n",
      " [ 95003.22736941]\n",
      " [135423.76272924]]\n"
     ]
    }
   ],
   "source": [
    "#make prediction \n",
    "y_pred=model.predict(x_test)\n",
    "print(y_test)\n",
    "print(y_pred)\n"
   ]
  },
  {
   "cell_type": "code",
   "execution_count": 13,
   "metadata": {},
   "outputs": [
    {
     "name": "stdout",
     "output_type": "stream",
     "text": [
      "mean absloute error: 1754.1683513807168\n",
      "mean squared error: 49236222.770218916\n",
      "root mean squared error: 7016.85276817313\n"
     ]
    }
   ],
   "source": [
    "#calculate evaluation metrics\n",
    "print('mean absloute error:',metrics.mean_absolute_error(y_test,y_pred))\n",
    "print('mean squared error:',metrics.mean_squared_error(y_test,y_pred))\n",
    "print('root mean squared error:',np.sqrt(metrics.mean_squared_error(y_test,y_pred)))\n"
   ]
  },
  {
   "cell_type": "code",
   "execution_count": 14,
   "metadata": {},
   "outputs": [
    {
     "name": "stdout",
     "output_type": "stream",
     "text": [
      "accuracy is 97.00840968527365 %\n"
     ]
    }
   ],
   "source": [
    "#check the accuracy of the model\n",
    "accuracy=r2_score(y_test,y_pred)\n",
    "print(\"accuracy is\",accuracy*100,\"%\")"
   ]
  },
  {
   "cell_type": "markdown",
   "metadata": {},
   "source": [
    "SUMMARY"
   ]
  },
  {
   "cell_type": "markdown",
   "metadata": {},
   "source": [
    "This project aimed to predict the profitability of the financial data.inculiding R&d,administration,and  marketing.. this multi linear regression model achieved 97% accuracy on profit"
   ]
  }
 ],
 "metadata": {
  "kernelspec": {
   "display_name": "base",
   "language": "python",
   "name": "python3"
  },
  "language_info": {
   "codemirror_mode": {
    "name": "ipython",
    "version": 3
   },
   "file_extension": ".py",
   "mimetype": "text/x-python",
   "name": "python",
   "nbconvert_exporter": "python",
   "pygments_lexer": "ipython3",
   "version": "3.10.9"
  }
 },
 "nbformat": 4,
 "nbformat_minor": 2
}
